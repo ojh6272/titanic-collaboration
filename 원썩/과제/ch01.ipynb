{
 "cells": [
  {
   "cell_type": "code",
   "execution_count": 1,
   "metadata": {},
   "outputs": [],
   "source": [
    "from sklearn.ensemble import RandomForestClassifier\n",
    "import pandas as pd\n",
    "import numpy as np"
   ]
  },
  {
   "cell_type": "code",
   "execution_count": 2,
   "metadata": {},
   "outputs": [
    {
     "name": "stdout",
     "output_type": "stream",
     "text": [
      "2.0.1\n",
      "1.24.3\n"
     ]
    }
   ],
   "source": [
    "print(pd.__version__)\n",
    "print(np.__version__)"
   ]
  },
  {
   "cell_type": "code",
   "execution_count": 3,
   "metadata": {},
   "outputs": [
    {
     "name": "stdout",
     "output_type": "stream",
     "text": [
      "<class 'numpy.ndarray'>\n",
      "(2, 3)\n",
      "2\n"
     ]
    }
   ],
   "source": [
    "arr1 = np.array([[1,2,3],[2,3,4]]) # array function => return ndarray\n",
    "print(type(arr1))\n",
    "print(arr1.shape) # 구조 2(row),3(col)\n",
    "print(arr1.ndim) # 차원"
   ]
  },
  {
   "cell_type": "code",
   "execution_count": 4,
   "metadata": {},
   "outputs": [
    {
     "name": "stdout",
     "output_type": "stream",
     "text": [
      "<class 'list'>\n",
      "<class 'numpy.ndarray'>\n",
      "int32\n"
     ]
    }
   ],
   "source": [
    "list1 = [1,2,3]\n",
    "print(type(list1))\n",
    "arr1 = np.array(list1)\n",
    "print(type(arr1))\n",
    "print(arr1.dtype)"
   ]
  },
  {
   "cell_type": "code",
   "execution_count": 5,
   "metadata": {},
   "outputs": [
    {
     "name": "stdout",
     "output_type": "stream",
     "text": [
      "['1' '2' 'test']\n",
      "<U11\n"
     ]
    }
   ],
   "source": [
    "list2 = [1,2,'test']\n",
    "arr2 = np.array(list2) # => ndarray object\n",
    "print(arr2)\n",
    "print(arr2.dtype)"
   ]
  },
  {
   "cell_type": "code",
   "execution_count": 6,
   "metadata": {},
   "outputs": [
    {
     "name": "stdout",
     "output_type": "stream",
     "text": [
      "[1. 2. 3.]\n"
     ]
    }
   ],
   "source": [
    "list3 = [1,2,3.0]\n",
    "arr3 = np.array(list3)\n",
    "print(arr3)"
   ]
  },
  {
   "cell_type": "code",
   "execution_count": 7,
   "metadata": {},
   "outputs": [
    {
     "name": "stdout",
     "output_type": "stream",
     "text": [
      "int32\n",
      "int32 float64\n",
      "int8\n"
     ]
    }
   ],
   "source": [
    "# 강제 형변환 : astype() method (ndarray)\n",
    "arr_int = np.array([1,2,3])\n",
    "print(arr_int.dtype)\n",
    "arr_float = arr_int.astype('float64')\n",
    "print(arr_int.dtype, arr_float.dtype)\n",
    "arr_int8 = arr_float.astype('int8')\n",
    "print(arr_int8.dtype)"
   ]
  },
  {
   "cell_type": "code",
   "execution_count": 8,
   "metadata": {},
   "outputs": [
    {
     "name": "stdout",
     "output_type": "stream",
     "text": [
      "[0 1 2 3 4 5 6 7 8 9] (10,) 1\n"
     ]
    }
   ],
   "source": [
    "# reshape\n",
    "arr1 = np.arange(10)\n",
    "print(arr1, arr1.shape, arr1.ndim)"
   ]
  },
  {
   "cell_type": "code",
   "execution_count": 9,
   "metadata": {},
   "outputs": [
    {
     "name": "stdout",
     "output_type": "stream",
     "text": [
      "[[0 1 2 3 4]\n",
      " [5 6 7 8 9]] (2, 5) 2\n"
     ]
    }
   ],
   "source": [
    "arr2 = arr1.reshape(2,5)\n",
    "print(arr2, arr2.shape, arr2.ndim)"
   ]
  },
  {
   "cell_type": "code",
   "execution_count": 10,
   "metadata": {},
   "outputs": [
    {
     "name": "stdout",
     "output_type": "stream",
     "text": [
      "[[0 1]\n",
      " [2 3]\n",
      " [4 5]\n",
      " [6 7]\n",
      " [8 9]]\n"
     ]
    }
   ],
   "source": [
    "arr3 = arr1.reshape(5,2)\n",
    "print(arr3)"
   ]
  },
  {
   "cell_type": "code",
   "execution_count": 11,
   "metadata": {},
   "outputs": [
    {
     "name": "stdout",
     "output_type": "stream",
     "text": [
      "(24, 50) (30, 40)\n"
     ]
    }
   ],
   "source": [
    "arr1 = np.arange(1200)\n",
    "arr2 = arr1.reshape(-1,50) # 30개 컬럼 고정  행변환 , 2차원 변환\n",
    "arr3 = arr1.reshape(30,-1) # 행 30개 고정 컬럼 , 2차원 변환 \n",
    "print(arr2.shape, arr3.shape)"
   ]
  },
  {
   "cell_type": "code",
   "execution_count": 12,
   "metadata": {},
   "outputs": [
    {
     "name": "stdout",
     "output_type": "stream",
     "text": [
      "[0 1 2 3 4 5 6 7]\n"
     ]
    }
   ],
   "source": [
    "arr1 = np.arange(8)\n",
    "print(arr1)"
   ]
  },
  {
   "cell_type": "code",
   "execution_count": 13,
   "metadata": {},
   "outputs": [
    {
     "name": "stdout",
     "output_type": "stream",
     "text": [
      "[[[0 1]\n",
      "  [2 3]]\n",
      "\n",
      " [[4 5]\n",
      "  [6 7]]]\n"
     ]
    }
   ],
   "source": [
    "arr3d = arr1.reshape((2,2,2)) # (2,2,2) => tuple   / 2,2,2 => 가변 인자 \n",
    "print(arr3d)"
   ]
  },
  {
   "cell_type": "code",
   "execution_count": 14,
   "metadata": {},
   "outputs": [
    {
     "name": "stdout",
     "output_type": "stream",
     "text": [
      "[[[0 1]\n",
      "  [2 3]]\n",
      "\n",
      " [[4 5]\n",
      "  [6 7]]]\n",
      "[[0], [1], [2], [3], [4], [5], [6], [7]]\n"
     ]
    }
   ],
   "source": [
    "# 3차원 데이터를 2차원 변경\n",
    "print(arr3d) \n",
    "arr5 = arr3d.reshape(-1,1) # -1,1(컬럼 1개 )\n",
    "print(arr5.tolist()) # tolist() method => list 변환\n",
    "# list : 아무거나 다 저장, 반복시 for 사용, 비연속 공간 저장 가능 \n",
    "# ndarray : 동일 타입 저장 가능, 브로드 캐스팅(랙 X 반복 가능), 연속 공간 저장, 고속 처리 가능"
   ]
  },
  {
   "cell_type": "code",
   "execution_count": 15,
   "metadata": {},
   "outputs": [
    {
     "data": {
      "text/plain": [
       "(array([1, 2, 3, 4, 5, 6, 7, 8, 9]), numpy.int32, 9)"
      ]
     },
     "execution_count": 15,
     "metadata": {},
     "output_type": "execute_result"
    }
   ],
   "source": [
    "# 인덱싱\n",
    "arr1 = np.arange(start=1, stop=10)\n",
    "arr1, type(arr1[3]), arr1[-1]"
   ]
  },
  {
   "cell_type": "code",
   "execution_count": 16,
   "metadata": {},
   "outputs": [
    {
     "data": {
      "text/plain": [
       "array([1, 2, 3, 4, 5, 6, 7, 8, 9])"
      ]
     },
     "execution_count": 16,
     "metadata": {},
     "output_type": "execute_result"
    }
   ],
   "source": [
    "arr1 = np.arange(1,10)\n",
    "arr1"
   ]
  },
  {
   "cell_type": "code",
   "execution_count": 17,
   "metadata": {},
   "outputs": [
    {
     "data": {
      "text/plain": [
       "array([False, False, False, False, False,  True,  True,  True,  True])"
      ]
     },
     "execution_count": 17,
     "metadata": {},
     "output_type": "execute_result"
    }
   ],
   "source": [
    "# 5보다 큰 값 추출 \n",
    "arr1 > 5 "
   ]
  },
  {
   "cell_type": "code",
   "execution_count": 18,
   "metadata": {},
   "outputs": [
    {
     "data": {
      "text/plain": [
       "array([1, 9])"
      ]
     },
     "execution_count": 18,
     "metadata": {},
     "output_type": "execute_result"
    }
   ],
   "source": [
    "arr1[[0,-1]]"
   ]
  },
  {
   "cell_type": "code",
   "execution_count": 19,
   "metadata": {},
   "outputs": [
    {
     "data": {
      "text/plain": [
       "array([1, 9])"
      ]
     },
     "execution_count": 19,
     "metadata": {},
     "output_type": "execute_result"
    }
   ],
   "source": [
    "arr1[[True, False, False, False, False, False, False, False, True]]"
   ]
  },
  {
   "cell_type": "code",
   "execution_count": 20,
   "metadata": {},
   "outputs": [
    {
     "data": {
      "text/plain": [
       "array([6, 7, 8, 9])"
      ]
     },
     "execution_count": 20,
     "metadata": {},
     "output_type": "execute_result"
    }
   ],
   "source": [
    "arr1[arr1  > 5]"
   ]
  },
  {
   "cell_type": "code",
   "execution_count": 21,
   "metadata": {},
   "outputs": [
    {
     "name": "stdout",
     "output_type": "stream",
     "text": [
      "[3 1 4 2 0]\n",
      "['Kate' 'Mike' 'Kain' 'Sarah' 'John']\n"
     ]
    }
   ],
   "source": [
    "# 1등 학생 이름 추출 : name_arr 사용 \n",
    "name_arr = np.array(['John','Mike','Sarah','Kate','Kain'])\n",
    "score_arr = np.array([78,95,84,98,88]) # 기준 : 정렬 \n",
    "sort_idx = np.argsort(score_arr)[::-1] # DESC\n",
    "print(sort_idx)\n",
    "print(name_arr[sort_idx])"
   ]
  },
  {
   "cell_type": "code",
   "execution_count": 23,
   "metadata": {},
   "outputs": [],
   "source": [
    "titanic_df = pd.read_csv('/big16/python_dev/titanic/data/train.csv')\n",
    "indexes = titanic_df.index"
   ]
  },
  {
   "cell_type": "code",
   "execution_count": 25,
   "metadata": {},
   "outputs": [
    {
     "name": "stdout",
     "output_type": "stream",
     "text": [
      "RangeIndex(start=0, stop=891, step=1)\n"
     ]
    }
   ],
   "source": [
    "print (indexes)"
   ]
  },
  {
   "cell_type": "code",
   "execution_count": 27,
   "metadata": {},
   "outputs": [
    {
     "name": "stdout",
     "output_type": "stream",
     "text": [
      "Fair Series max 값: 512.3292\n",
      "Fair Series sum 값: 28693.9493\n",
      "sum() Fair Series: 28693.949299999967\n",
      "Fair Series + 3:\n",
      " 0    10.2500\n",
      "1    74.2833\n",
      "2    10.9250\n",
      "Name: Fare, dtype: float64\n"
     ]
    }
   ],
   "source": [
    "series_fair = titanic_df['Fare']\n",
    "print('Fair Series max 값:', series_fair.max())\n",
    "print('Fair Series sum 값:', series_fair.sum())\n",
    "print('sum() Fair Series:', sum(series_fair))\n",
    "print('Fair Series + 3:\\n', (series_fair + 3).head(3))"
   ]
  },
  {
   "cell_type": "code",
   "execution_count": 28,
   "metadata": {},
   "outputs": [
    {
     "ename": "NameError",
     "evalue": "name 'titanic_drop_df' is not defined",
     "output_type": "error",
     "traceback": [
      "\u001b[1;31m---------------------------------------------------------------------------\u001b[0m",
      "\u001b[1;31mNameError\u001b[0m                                 Traceback (most recent call last)",
      "Cell \u001b[1;32mIn[28], line 2\u001b[0m\n\u001b[0;32m      1\u001b[0m titanic_reset_df\u001b[39m=\u001b[39mtitanic_df\u001b[39m.\u001b[39mreset_index(inplace\u001b[39m=\u001b[39m\u001b[39mFalse\u001b[39;00m)\n\u001b[1;32m----> 2\u001b[0m titanic_drop_df\u001b[39m.\u001b[39mhead(\u001b[39m3\u001b[39m)\n",
      "\u001b[1;31mNameError\u001b[0m: name 'titanic_drop_df' is not defined"
     ]
    }
   ],
   "source": [
    "titanic_reset_df=titanic_df.reset_index(inplace=False)\n",
    "titanic_drop_df.head(3)"
   ]
  },
  {
   "cell_type": "code",
   "execution_count": null,
   "metadata": {},
   "outputs": [],
   "source": []
  },
  {
   "cell_type": "code",
   "execution_count": null,
   "metadata": {},
   "outputs": [],
   "source": []
  },
  {
   "cell_type": "code",
   "execution_count": null,
   "metadata": {},
   "outputs": [],
   "source": []
  },
  {
   "cell_type": "code",
   "execution_count": null,
   "metadata": {},
   "outputs": [],
   "source": []
  },
  {
   "cell_type": "code",
   "execution_count": null,
   "metadata": {},
   "outputs": [],
   "source": []
  }
 ],
 "metadata": {
  "kernelspec": {
   "display_name": "ml-dev",
   "language": "python",
   "name": "python3"
  },
  "language_info": {
   "codemirror_mode": {
    "name": "ipython",
    "version": 3
   },
   "file_extension": ".py",
   "mimetype": "text/x-python",
   "name": "python",
   "nbconvert_exporter": "python",
   "pygments_lexer": "ipython3",
   "version": "3.10.11"
  },
  "orig_nbformat": 4
 },
 "nbformat": 4,
 "nbformat_minor": 2
}
